{
 "cells": [
  {
   "cell_type": "markdown",
   "metadata": {},
   "source": [
    "# COS 526, Fall 2018\n",
    "#Point Cloud Registration\n",
    "#Kara Bressler"
   ]
  },
  {
   "cell_type": "code",
   "execution_count": null,
   "metadata": {},
   "outputs": [],
   "source": [
    "import numpy as np\n",
    "from io import StringIO\n",
    "import math\n",
    "from pathlib import Path\n",
    "from scipy.spatial import KDTree\n",
    "\n",
    "NUM_SAMPLES = 1000;\n",
    "\n",
    "# USER INPUT\n",
    "file1Name = \"top3\";\n",
    "file2Name = \"bun000\";"
   ]
  },
  {
   "cell_type": "code",
   "execution_count": null,
   "metadata": {
    "code_folding": [
     0
    ]
   },
   "outputs": [],
   "source": [
    "# 1: PRELIMINARY CODE INFRASTRUCTURE\n",
    "# Read a point cloud from a .pts file and store this in two NumPy ndarrays, \n",
    "# one ndarray for the coordinates of the point and the other for the normals.\n",
    "# \n",
    "# The format is plain ASCII, and looks like the following:\n",
    "# coord1_x coord1_y coord1_z norm1_x norm1_y norm1_z\n",
    "# coord2_x coord2_y coord2_z norm2_x norm2_y norm2_z\n",
    "# ...\n",
    "# coordn_x coordn_y coordn_z normn_x normn_y normn_z\n",
    "# Each line just specifies the (x,y,z) coordinates of a point together with its normal.\n",
    "#\n",
    "# Referenced File Handling Cheat Sheet for Python (https://www.pythonforbeginners.com/cheatsheet/python-file-handling)\n",
    "\n",
    "def readPointCloud(_fileName):\n",
    "    fileName   = _fileName;\n",
    "    fileLength = len(open(fileName, 'r').readlines(  ));\n",
    "    file       = open(fileName, 'r');\n",
    "    \n",
    "    pointMatrix = np.ndarray( (fileLength, 6), float );\n",
    "\n",
    "    for lineIndex, line in enumerate(file):\n",
    "        lineElements = line.split();\n",
    "\n",
    "        for elementIndex, element in enumerate(lineElements):  \n",
    "            pointMatrix[lineIndex][elementIndex] = element;\n",
    "            \n",
    "    file.close();\n",
    "\n",
    "    return pointMatrix\n"
   ]
  },
  {
   "cell_type": "code",
   "execution_count": null,
   "metadata": {
    "code_folding": [
     0
    ]
   },
   "outputs": [],
   "source": [
    "# 2: PRELIMINARY CODE INFRASTRUCTURE\n",
    "# Read a rigid-body transformation, in a simple ASCII format \n",
    "# that specifies it as a 4×4 matrix in homogeneous coordinates. \n",
    "# \n",
    "# For example, a transformation that rotates by 90 degrees counterclockwise around the Z axis, \n",
    "# and translates by (2,3,4), would be written as:\n",
    "#\n",
    "#    0 -1  0  2\n",
    "#    1  0  0  3\n",
    "#    0  0  1  4\n",
    "#    0  0  0  1\n",
    "# \n",
    "# Referenced COS 426 notes (http://www.cs.princeton.edu/courses/archive/spr17/cos426/notes/cos426_s17_lecture10_transform.pdf) \n",
    "# concerning transformations in homogeneous coordinates.\n",
    "\n",
    "def readTransformation(_fileName):\n",
    "    fileName = _fileName;\n",
    "    pathName = Path(fileName);\n",
    "    \n",
    "    # If .xf file is missing, assume the identity transformation, as written in the bun000.xf file.\n",
    "    if not pathName.exists():\n",
    "        fileName = \"bun000.xf\";\n",
    "        \n",
    "    file = open(fileName, 'r');\n",
    "    \n",
    "    transformationMatrix = np.ndarray( (4, 4), float );\n",
    "\n",
    "    for lineIndex, line in enumerate(file):\n",
    "        lineElements = line.split();\n",
    "        for elementIndex, element in enumerate(lineElements):         \n",
    "            transformationMatrix[lineIndex][elementIndex] = element;\n",
    "\n",
    "    file.close();\n",
    "\n",
    "    return transformationMatrix;\n"
   ]
  },
  {
   "cell_type": "code",
   "execution_count": null,
   "metadata": {
    "code_folding": [
     0,
     5,
     28
    ]
   },
   "outputs": [],
   "source": [
    "# 3: PRELIMINARY CODE INFRASTRUCTURE\n",
    "# Given an arbitrary point in 3D space, find the closest point in a point set. \n",
    "# Here we start with a brute-force implementation:\n",
    "\n",
    "# Measure distance between two points\n",
    "def ptDistance(pt1, pt2): \n",
    "    distance = math.sqrt( ( (pt1[0] - pt2[0])**2 ) + \\\n",
    "                          ( (pt1[1] - pt2[1])**2 ) + \\\n",
    "                          ( (pt1[2] - pt2[2])**2 ) );\n",
    "    return distance;\n",
    "\n",
    "def findClosestPointBruteForce(referencePt, ptSet): \n",
    "    shortestDistance = ptDistance(referencePt, ptSet[0]);\n",
    "    closestPt = ptSet[0];\n",
    "    \n",
    "    for pt in ptSet: \n",
    "        # Measure distance from current point to reference point\n",
    "        currentDistance = ptDistance(pt, referencePt);\n",
    "        if currentDistance < shortestDistance: \n",
    "            closestPt = pt;\n",
    "            shortestDistance = currentDistance;\n",
    "            \n",
    "    return closestPt;\n",
    "\n",
    "# Here we implement an accelerated version based on a [grid] or a [k-d tree].\n",
    "# Referenced COS 226 notes (http://www.cs.princeton.edu/courses/archive/fall15/cos226/lectures/99GeometricSearch.pdf)\n",
    "# concerning kd-trees as well as StackOverflow to understand code for implementing kd-trees (https://stackoverflow.com/questions/2486093/millions-of-3d-points-how-to-find-the-10-of-them-closest-to-a-given-point)\n",
    "# regarding SciPy's KDTree class (https://docs.scipy.org/doc/scipy/reference/spatial.html#spatial-data-structures-and-algorithms).\n",
    "def findClosestPointKDTree(referencePt, ptSet):\n",
    "    \n",
    "    # find 10 nearest points\n",
    "    threeDimensionaltree = KDTree( ptSet, leafsize=len(ptSet) )\n",
    "    distances, index = threeDimensionaltree.query( [referencePt], k=1 )\n",
    "    \n",
    "    closestPt = ptSet[index]\n",
    "    \n",
    "    return closestPt;"
   ]
  },
  {
   "cell_type": "code",
   "execution_count": null,
   "metadata": {
    "code_folding": [
     0,
     4
    ]
   },
   "outputs": [],
   "source": [
    "# 4: PRELIMINARY CODE INFRASTRUCTURE\n",
    "# Apply a rigid-body transformation to a point. \n",
    "# Applying a transformation to a point is just a matrix multiplication by a column vector:\n",
    "\n",
    "def transformPt(transformationMatrix, pt):\n",
    "    return np.dot(transformationMatrix, pt)\n"
   ]
  },
  {
   "cell_type": "code",
   "execution_count": null,
   "metadata": {
    "code_folding": [
     0,
     2,
     9
    ]
   },
   "outputs": [],
   "source": [
    "# 5: PRELIMINARY CODE INFRASTRUCTURE\n",
    "# Compose (multiply) two transformations.\n",
    "def multiplyMatrices(aMatrix, bMatrix):\n",
    "    return np.dot(aMatrix, bMatrix)\n",
    "\n",
    "# Invert a given rigid-body transform. \n",
    "# The inverse of a rotation matrix is just its transpose. \n",
    "# Still need to compute the correct translation for the inverse.\n",
    "# Consulted Stanford notes to understand inverse matrices (http://www.graphics.stanford.edu/courses/cs248-98-fall/Final/q4.html)\n",
    "def invertTransformationMatrix(transformationMatrix):\n",
    "    \n",
    "    inverseRotationMatrix = np.ndarray( (4, 4), float );\n",
    "    inverseRotationMatrix[3][3] = 1;\n",
    "    for index in range(0, 3): \n",
    "        inverseRotationMatrix[index][3] = 0;\n",
    "        inverseRotationMatrix[3][index] = 0;\n",
    "    \n",
    "    for x in range(0, 3): \n",
    "        for y in range(0, 3): \n",
    "            inverseRotationMatrix[y][x] = transformationMatrix[x][y];\n",
    "    \n",
    "    inverseTranslationMatrix = np.ndarray( (4, 4), float );\n",
    "    inverseTranslationMatrix[3][3] = 1;\n",
    "    \n",
    "    for x in range(0, 4): \n",
    "        for y in range(0, 4): \n",
    "            if x == y: \n",
    "                inverseTranslationMatrix[x][y] = 1; \n",
    "            else: \n",
    "                inverseTranslationMatrix[x][y] = 0;\n",
    "    \n",
    "    inverseTranslationMatrix[0][3] = -transformationMatrix[0][3];\n",
    "    inverseTranslationMatrix[1][3] = -transformationMatrix[1][3];\n",
    "    inverseTranslationMatrix[2][3] = -transformationMatrix[2][3];\n",
    "            \n",
    "    inverseTransformationMatrix = multiplyMatrices(inverseRotationMatrix, inverseTranslationMatrix);\n",
    "\n",
    "    return inverseTransformationMatrix;\n",
    "\n",
    "# For debugging, verify the product of a transformation matrix and its inverse is (very close to) the identity.\n",
    "# inverseTransformationMatrix = invertTransformationMatrix(transformationMatrix);\n",
    "# result = multiplyMatrices(transformationMatrix, inverseTransformationMatrix);\n",
    "# print(result);"
   ]
  },
  {
   "cell_type": "code",
   "execution_count": null,
   "metadata": {
    "code_folding": [
     0
    ]
   },
   "outputs": [],
   "source": [
    "# 6: PRELIMINARY CODE INFRASTRUCTURE\n",
    "# Code that can solve a 6×6 system of linear equations.\n",
    "# Consulted the following resource: \n",
    "\n",
    "# x = Unknown intensities, Ax = b\n",
    "def solveLinearEquations(_A, _b): \n",
    "    _x = np.linalg.solve(_A, _b)\n",
    "    return _x;\n"
   ]
  },
  {
   "cell_type": "code",
   "execution_count": null,
   "metadata": {
    "code_folding": [
     0
    ]
   },
   "outputs": [],
   "source": [
    "# 1: ITERATIVE CLOSEST POINTS\n",
    "# Read in two point clouds specified on the command line, \n",
    "# together with their associated rigid-body transforms (which are in separate files with the extension .xf). \n",
    "# For example, running\n",
    "#     % icp file1.pts file2.pts\n",
    "# should read in file1.pts, file1.xf, file2.pts, and file2.xf. \n",
    "# If either .xf file is missing, assume the identity transformation. \n",
    "# On output, your program will write file1.xf with the new transformation that aligns file1.pts to file2.pts."
   ]
  },
  {
   "cell_type": "code",
   "execution_count": null,
   "metadata": {
    "code_folding": [
     0,
     3
    ]
   },
   "outputs": [],
   "source": [
    "# 2: ITERATIVE CLOSEST POINTS\n",
    "# Randomly pick 1000 points on file1.\n",
    "\n",
    "def randomlySamplePoints():\n",
    "    file1Length              = len(open(file1PointsName, 'r').readlines(  ));\n",
    "    file1IndexRange          = np.array(range(0, file1Length));\n",
    "    file1PointsSampleIndices = np.random.choice(file1IndexRange, NUM_SAMPLES, replace=False)\n",
    "    file1PointsSample        = np.ndarray( (NUM_SAMPLES, 6), float );\n",
    "\n",
    "    for i, indexNumber in enumerate(file1PointsSampleIndices):\n",
    "        file1PointsSample[i] = file1Points[indexNumber]\n",
    "    \n",
    "    return file1PointsSample"
   ]
  },
  {
   "cell_type": "code",
   "execution_count": null,
   "metadata": {
    "code_folding": [
     0,
     5
    ]
   },
   "outputs": [],
   "source": [
    "# 3: ITERATIVE CLOSEST POINTS\n",
    "# For each point chosen in (2), apply M1, the current transformation of file1, \n",
    "# and then the inverse of M2, the transformation of file2. \n",
    "# This way, you have the location of the point in the coordinate system of file2. \n",
    "# Call these points pi.\n",
    "def computePi(_M1, _inverseM2, _file1PointsSample):\n",
    "    _pi = np.ndarray( (NUM_SAMPLES, 6), float );\n",
    "\n",
    "    for i in range(0, NUM_SAMPLES):\n",
    "        pt      = np.zeros(4)\n",
    "        pt[0:3] = _file1PointsSample[i][0:3]\n",
    "        pt[3]   = 1\n",
    "\n",
    "        transformedPt_afterM1        = transformPt(       _M1, pt)\n",
    "        transformedPt_afterInverseM2 = transformPt(_inverseM2, transformedPt_afterM1)\n",
    "        \n",
    "        _pi[i][0:3] = transformedPt_afterInverseM2[0:3]\n",
    "        _pi[i][3:6] = _file1PointsSample[i][3:6]\n",
    "    \n",
    "    return _pi\n"
   ]
  },
  {
   "cell_type": "code",
   "execution_count": null,
   "metadata": {
    "code_folding": [
     0
    ]
   },
   "outputs": [],
   "source": [
    "# 4: ITERATIVE CLOSEST POINTS\n",
    "# Find the closest point in file2 to each point computed in (3). \n",
    "# Call these points qi.\n",
    "\n",
    "def computeQi(_pi):\n",
    "    _qi = np.ndarray( (NUM_SAMPLES, 6), float );\n",
    "\n",
    "    for i in range(0, NUM_SAMPLES):\n",
    "        _qi[i] = findClosestPointKDTree(_pi[i], file2Points);\n",
    "    \n",
    "    return _qi\n",
    "\n",
    "# The normal associated with each qi is ni.\n",
    "def computeNi(_qi):\n",
    "    _ni = np.ndarray( (NUM_SAMPLES, 3), float );\n",
    "\n",
    "    for i in range(0, NUM_SAMPLES):\n",
    "        _ni[i] = _qi[:][i][3:6]\n",
    "    \n",
    "    return _ni\n",
    "\n",
    "# Debugging hint: Write out a .lines file containing your pi and qi.\n",
    "# Use pts_view to load it up together with file1.pts and file2.pts."
   ]
  },
  {
   "cell_type": "code",
   "execution_count": null,
   "metadata": {
    "code_folding": [
     0,
     3,
     11
    ]
   },
   "outputs": [],
   "source": [
    "# 5: ITERATIVE CLOSEST POINTS\n",
    "# Compute the median point-to-plane distance between the 1000 point pairs. \n",
    "# That is, compute the median value of:  |(pi−qi)⋅ni|\n",
    "def computePointToPlaneDistances(_pi, _qi, _ni): \n",
    "    _pointToPlaneDistances = np.zeros(NUM_SAMPLES);\n",
    "\n",
    "    for i in range(0, NUM_SAMPLES):\n",
    "        _pointToPlaneDistances[i] = np.abs( np.dot((_pi[:][i][0:3] - _qi[:][i][0:3]), _ni[:][i][0:3]) );\n",
    "    \n",
    "    return _pointToPlaneDistances\n",
    "\n",
    "def computeMedianPointToPlaneDistance(_pointToPlaneDistances): \n",
    "    _medianPointToPlaneDistance = np.median( _pointToPlaneDistances ); \n",
    "    return _medianPointToPlaneDistance;\n",
    "\n",
    "# Debugging hint: For the initial transformations provided to you, \n",
    "# you should be seeing initial median distances in the range of 1 through 10. The mesh units are millimeters.\n",
    "# IT'S WORKING!"
   ]
  },
  {
   "cell_type": "code",
   "execution_count": null,
   "metadata": {
    "code_folding": [
     0
    ]
   },
   "outputs": [],
   "source": [
    "# 6: ITERATIVE CLOSEST POINTS\n",
    "# To perform outlier rejection, eliminate (or mark as unused) any point pair whose \n",
    "# point-to-plane distance is more than 3 times the median distance you found in (5).\n",
    "def computeOutlierIndices(_pointToPlaneDistances, _medianPointToPlaneDistance):\n",
    "    _outlierIndices = []\n",
    "\n",
    "    for i in range(0, NUM_SAMPLES):\n",
    "        if np.abs( _pointToPlaneDistances[i] ) > 3 * _medianPointToPlaneDistance: \n",
    "            _outlierIndices.append(i)\n",
    "            \n",
    "    return _outlierIndices\n"
   ]
  },
  {
   "cell_type": "code",
   "execution_count": null,
   "metadata": {
    "code_folding": [
     0,
     4
    ]
   },
   "outputs": [],
   "source": [
    "# 7: ITERATIVE CLOSEST POINTS\n",
    "# Compute the mean point-to-plane distance between the remaining point pairs found in (6). \n",
    "# This will be used later to see how much this ICP iteration reduced the misalignment.\n",
    "\n",
    "def computeMeanPointToPlaneDistance(_pointToPlaneDistances, _outlierIndices): \n",
    "    sumPointToPlaneDistance = 0;\n",
    "    numValidDistances = NUM_SAMPLES - len(_outlierIndices)\n",
    "\n",
    "    for i in range(0, NUM_SAMPLES):\n",
    "        if i not in _outlierIndices: \n",
    "            sumPointToPlaneDistance += np.abs( _pointToPlaneDistances[i] )\n",
    "            \n",
    "    _meanPointToPlaneDistance = (sumPointToPlaneDistance / numValidDistances)\n",
    "    \n",
    "    return _meanPointToPlaneDistance\n"
   ]
  },
  {
   "cell_type": "code",
   "execution_count": null,
   "metadata": {
    "code_folding": [
     0,
     6
    ]
   },
   "outputs": [],
   "source": [
    "# 8: ITERATIVE CLOSEST POINTS\n",
    "# Construct the matrix C=ATA and the vector d=ATb. \n",
    "# You never actually need to construct the full matrix A or vector b, \n",
    "# if you construct C and d by summing up the appropriate contributions for each point pair.\n",
    "#\n",
    "# For each point i you will construct a 6×6 matrix and 6×1 vector, and sum up all of those matrices and vectors as C and d.\n",
    "def computeCd(_pi, _qi, _ni, _outlierIndices):\n",
    "\n",
    "    _C = np.ndarray( (6, 6), float );\n",
    "    _d = np.ndarray( (6, 1), float );\n",
    "\n",
    "    for x in range(0, 6): \n",
    "        _d.itemset((x, 0), 0)\n",
    "        for y in range(0, 6): \n",
    "            _C.itemset((x, y), 0)\n",
    "\n",
    "    # Calculate A transpose\n",
    "    for i in range(0, NUM_SAMPLES):\n",
    "        if i not in _outlierIndices: \n",
    "   \n",
    "            pi_cross_ni = np.cross(_pi[i][0:3], _ni[i]);\n",
    "\n",
    "            Ai      = np.zeros(6);\n",
    "            Ai[0:3] = pi_cross_ni;\n",
    "            Ai[3:6] = _ni[i];\n",
    "            Ai_     = np.array(Ai)[np.newaxis]\n",
    "            Ai_T    = Ai_.T\n",
    "\n",
    "            bi = - np.dot( (_pi[:][i][0:3] - _qi[:][i][0:3]), _ni[:][i][0:3] )\n",
    "\n",
    "            Ci = np.dot(Ai_T, Ai_);  # outer product\n",
    "            _C = Ci + _C\n",
    "\n",
    "            di = np.dot(Ai_T, bi);\n",
    "            _d = di + _d\n",
    "    \n",
    "    dFlat = []\n",
    "    for element in _d: \n",
    "        dFlat.append(element[0])\n",
    "\n",
    "    return (_C, dFlat)"
   ]
  },
  {
   "cell_type": "code",
   "execution_count": null,
   "metadata": {
    "code_folding": [
     0
    ]
   },
   "outputs": [],
   "source": [
    "# 9: ITERATIVE CLOSEST POINTS\n",
    "# Solve the system --> Cx=d <-- for the vector x, which consists of the rotations around the 3 axes \n",
    "# as its first 3 components, and the translation as its last 3 components. \n",
    "# xVector = solveLinearEquations(C, d);\n",
    "# print(xVector);\n",
    "\n",
    "def computeM_ICP(_xVector):\n",
    "    rotationFactorX    = _xVector[0];\n",
    "    rotationFactorY    = _xVector[1];\n",
    "    rotationFactorZ    = _xVector[2];\n",
    "    translationFactorX = _xVector[3];\n",
    "    translationFactorY = _xVector[4];\n",
    "    translationFactorZ = _xVector[5];\n",
    "\n",
    "    # Construct a rigid-body transformation M_{ICP} out of those 6 values:\n",
    "    # M_{ICP}=TRzRyRx \n",
    "\n",
    "    rotationXMatrix   = np.ndarray( (4, 4), float );\n",
    "    rotationYMatrix   = np.ndarray( (4, 4), float );\n",
    "    rotationZMatrix   = np.ndarray( (4, 4), float );\n",
    "    translationMatrix = np.ndarray( (4, 4), float );\n",
    "    \n",
    "    # Referenced slides 56 & 57 (http://www.cs.princeton.edu/courses/archive/spr17/cos426/notes/cos426_s17_lecture10_transform.pdf)\n",
    "    # to construct the basic translation (T) and rotation (Rx, Ry, Rz) matrices\n",
    "\n",
    "    # Make an identity matrix as basis for all transformation matrices\n",
    "    for x in range(0, 4): \n",
    "        for y in range(0, 4): \n",
    "            if x == y: \n",
    "                element = 1; \n",
    "            else: \n",
    "                element = 0;\n",
    "            rotationXMatrix[x][y]   = element;\n",
    "            rotationYMatrix[x][y]   = element;\n",
    "            rotationZMatrix[x][y]   = element;\n",
    "            translationMatrix[x][y] = element;\n",
    "\n",
    "    rotationXMatrix[1][1] =   math.cos(rotationFactorX);\n",
    "    rotationXMatrix[2][2] =   math.cos(rotationFactorX);\n",
    "    rotationXMatrix[2][1] =   math.sin(rotationFactorX);\n",
    "    rotationXMatrix[1][2] = - math.sin(rotationFactorX);\n",
    "\n",
    "    rotationYMatrix[0][0] =   math.cos(rotationFactorY);\n",
    "    rotationYMatrix[2][2] =   math.cos(rotationFactorY);\n",
    "    rotationYMatrix[2][0] =   math.sin(-rotationFactorY);\n",
    "    rotationYMatrix[0][2] = - math.sin(-rotationFactorY);\n",
    "\n",
    "    rotationZMatrix[0][0] =   math.cos(rotationFactorZ);\n",
    "    rotationZMatrix[1][1] =   math.cos(rotationFactorZ);\n",
    "    rotationZMatrix[1][0] =   math.sin(rotationFactorZ);\n",
    "    rotationZMatrix[0][1] = - math.sin(rotationFactorZ);\n",
    "\n",
    "    translationMatrix[0][3] = translationFactorX;\n",
    "    translationMatrix[1][3] = translationFactorY;\n",
    "    translationMatrix[2][3] = translationFactorZ;\n",
    "\n",
    "    Rx = rotationXMatrix;\n",
    "    Ry = rotationYMatrix;\n",
    "    Rz = rotationZMatrix;\n",
    "    T  = translationMatrix;\n",
    "\n",
    "    M_ICP = multiplyMatrices(multiplyMatrices(multiplyMatrices(T, Rz), Ry), Rx);\n",
    "    \n",
    "    return M_ICP"
   ]
  },
  {
   "cell_type": "code",
   "execution_count": null,
   "metadata": {
    "code_folding": [
     0,
     7
    ]
   },
   "outputs": [],
   "source": [
    "# 10: ITERATIVE CLOSEST POINTS\n",
    "# Update the transformation of file1 to include the M_{ICP} you just computed.\n",
    "# The tricky part is that M_{ICP} is expressed in the coordinate system of file2, \n",
    "# so the update that you need to perform is:\n",
    "# M1 ← M2 M_{ICP} (M2)^-1 M1\n",
    "# Make sure you understand why this is correct.\n",
    "\n",
    "def updateTransform(_M2, _M_ICP, _inverseM2, _M1): \n",
    "    _transformedM1 = multiplyMatrices(multiplyMatrices(multiplyMatrices(_M2, _M_ICP), _inverseM2), _M1);\n",
    "    return _transformedM1"
   ]
  },
  {
   "cell_type": "code",
   "execution_count": null,
   "metadata": {
    "code_folding": [
     0,
     21
    ]
   },
   "outputs": [],
   "source": [
    "# 11: ITERATIVE CLOSEST POINTS\n",
    "# Update the pi in the list of points from (6) by multiplying them by M_{ICP}. \n",
    "# Re-compute the mean point-to-plane distance between point pairs, and compare to the distance you found in (7).\n",
    "\n",
    "# Read in file1.pts, file2.pts\n",
    "file1PointsName = file1Name + \".pts\";\n",
    "file2PointsName = file2Name + \".pts\";\n",
    "file1Points     = readPointCloud(file1PointsName);\n",
    "file2Points     = readPointCloud(file2PointsName);\n",
    "\n",
    "# Read in file1.xf, file2.xf\n",
    "file1TransformationName   = file1Name + \".xf\";\n",
    "file2TransformationName   = file2Name + \".xf\";\n",
    "file1TransformationMatrix = readTransformation(file1TransformationName);\n",
    "file2TransformationMatrix = readTransformation(file2TransformationName);\n",
    "\n",
    "M1        = file1TransformationMatrix;\n",
    "M2        = file2TransformationMatrix;\n",
    "inverseM1 = invertTransformationMatrix(M1);\n",
    "inverseM2 = invertTransformationMatrix(M2);\n",
    "\n",
    "def doICP(_M1):\n",
    "    \n",
    "    file1PointsSample = randomlySamplePoints();\n",
    "\n",
    "    pi = computePi(_M1, inverseM2, file1PointsSample);\n",
    "    qi = computeQi(pi);\n",
    "    ni = computeNi(qi);\n",
    "\n",
    "    pointToPlaneDistances      = computePointToPlaneDistances( pi, qi, ni );\n",
    "    medianPointToPlaneDistance = computeMedianPointToPlaneDistance( pointToPlaneDistances );\n",
    "    outlierIndices = computeOutlierIndices(pointToPlaneDistances, medianPointToPlaneDistance);\n",
    "    meanPointToPlaneDistance = computeMeanPointToPlaneDistance(pointToPlaneDistances, outlierIndices)\n",
    "    \n",
    "    print(\"Orig Median\", medianPointToPlaneDistance);\n",
    "    print(\"Orig Mean\", meanPointToPlaneDistance)\n",
    "\n",
    "    C, d    = computeCd(pi, qi, ni, outlierIndices);\n",
    "    xVector = solveLinearEquations(C, d);\n",
    "    M_ICP   = computeM_ICP(xVector)\n",
    "    \n",
    "    transformedM1 = updateTransform(M2, M_ICP, inverseM2, _M1);\n",
    "    \n",
    "    updatedPi = computePi(transformedM1, inverseM2, file1PointsSample);\n",
    "    updatedQi = computeQi(updatedPi);\n",
    "    updatedNi = computeNi(updatedQi);\n",
    "\n",
    "    updatedPointToPlaneDistances      = computePointToPlaneDistances( updatedPi, updatedQi, updatedNi );\n",
    "    updatedMedianPointToPlaneDistance = computeMedianPointToPlaneDistance( updatedPointToPlaneDistances );\n",
    "    updatedOutlierIndices             = computeOutlierIndices( updatedPointToPlaneDistances, updatedMedianPointToPlaneDistance );\n",
    "    updatedMeanPointToPlaneDistance   = computeMeanPointToPlaneDistance( updatedPointToPlaneDistances, updatedOutlierIndices );\n",
    "    \n",
    "    print(\"ICP Median\", updatedMedianPointToPlaneDistance)\n",
    "    print(\"ICP Mean\", updatedMeanPointToPlaneDistance)\n",
    "    print()\n",
    "    \n",
    "    return (updatedMeanPointToPlaneDistance / meanPointToPlaneDistance < 0.999), transformedM1\n"
   ]
  },
  {
   "cell_type": "code",
   "execution_count": null,
   "metadata": {
    "code_folding": [
     0
    ]
   },
   "outputs": [],
   "source": [
    "# 12: ITERATIVE CLOSEST POINTS\n",
    "# If the ratio of distances found in (11) and (7) is less than 0.9999 \n",
    "# (meaning that this ICP iteration has improved things by more than 0.01%), \n",
    "# continue with the next iteration of ICP by going back to step (2), else stop.\n",
    "\n",
    "shouldUpdateAgain, updatedM1 = doICP(M1);\n",
    "\n",
    "while shouldUpdateAgain:\n",
    "    shouldUpdateAgain, updatedM1 = doICP(updatedM1);"
   ]
  },
  {
   "cell_type": "code",
   "execution_count": null,
   "metadata": {
    "code_folding": [
     0
    ]
   },
   "outputs": [],
   "source": [
    "# 13: ITERATIVE CLOSEST POINTS\n",
    "# Write out the new M1 in file1.xf\n",
    "file = open(file1TransformationName, 'w')\n",
    "\n",
    "for x in range(0, 4): \n",
    "    for y in range(0, 4): \n",
    "        file.write(str(updatedM1[x][y]) + ' ') \n",
    "    file.write(' \\n') \n",
    "\n",
    "file.close()"
   ]
  }
 ],
 "metadata": {
  "kernelspec": {
   "display_name": "Python 3",
   "language": "python",
   "name": "python3"
  },
  "language_info": {
   "codemirror_mode": {
    "name": "ipython",
    "version": 3
   },
   "file_extension": ".py",
   "mimetype": "text/x-python",
   "name": "python",
   "nbconvert_exporter": "python",
   "pygments_lexer": "ipython3",
   "version": "3.7.0"
  }
 },
 "nbformat": 4,
 "nbformat_minor": 2
}
